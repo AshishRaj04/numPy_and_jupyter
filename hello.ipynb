{
 "cells": [
  {
   "cell_type": "markdown",
   "id": "0084eb15-e9eb-41ad-b5f6-21d10a0b9f5f",
   "metadata": {},
   "source": [
    "# Example \n",
    "## Jupyter tutorial\n",
    "\n",
    "date - 4th Feb 2024"
   ]
  },
  {
   "cell_type": "code",
   "execution_count": 1,
   "id": "c387f1be-01c0-4893-81ac-8a440346d1a1",
   "metadata": {},
   "outputs": [
    {
     "name": "stdout",
     "output_type": "stream",
     "text": [
      "Hello world\n"
     ]
    }
   ],
   "source": [
    "print(\"Hello world\")"
   ]
  },
  {
   "cell_type": "markdown",
   "id": "5288848e-46b0-44b4-ad86-e1538724ca7f",
   "metadata": {},
   "source": [
    "** Welcome to numpy tutorial"
   ]
  }
 ],
 "metadata": {
  "kernelspec": {
   "display_name": "Python 3 (ipykernel)",
   "language": "python",
   "name": "python3"
  },
  "language_info": {
   "codemirror_mode": {
    "name": "ipython",
    "version": 3
   },
   "file_extension": ".py",
   "mimetype": "text/x-python",
   "name": "python",
   "nbconvert_exporter": "python",
   "pygments_lexer": "ipython3",
   "version": "3.12.1"
  }
 },
 "nbformat": 4,
 "nbformat_minor": 5
}
