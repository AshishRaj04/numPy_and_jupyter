{
 "cells": [
  {
   "cell_type": "markdown",
   "id": "50673902-d02a-4be3-8546-13f6c141ff80",
   "metadata": {},
   "source": [
    "# Mathematics"
   ]
  },
  {
   "cell_type": "code",
   "execution_count": 2,
   "id": "b869c204-7559-4bdb-931a-25f816fe50d5",
   "metadata": {},
   "outputs": [],
   "source": [
    "import numpy as np"
   ]
  },
  {
   "cell_type": "code",
   "execution_count": 3,
   "id": "3bf6c4d8-367d-4729-ad42-52f2fe95432c",
   "metadata": {},
   "outputs": [
    {
     "name": "stdout",
     "output_type": "stream",
     "text": [
      "[1 5 7 9]\n"
     ]
    }
   ],
   "source": [
    "a = np.array([1,5,7,9])\n",
    "print(a)"
   ]
  },
  {
   "cell_type": "code",
   "execution_count": 4,
   "id": "0aaa8f79-fc52-403b-9aa9-671fc7112945",
   "metadata": {},
   "outputs": [
    {
     "data": {
      "text/plain": [
       "array([ 3,  7,  9, 11])"
      ]
     },
     "execution_count": 4,
     "metadata": {},
     "output_type": "execute_result"
    }
   ],
   "source": [
    "a+2"
   ]
  },
  {
   "cell_type": "code",
   "execution_count": 5,
   "id": "1cbc641d-5c40-49f2-972b-939c724136fb",
   "metadata": {},
   "outputs": [
    {
     "data": {
      "text/plain": [
       "array([-6, -2,  0,  2])"
      ]
     },
     "execution_count": 5,
     "metadata": {},
     "output_type": "execute_result"
    }
   ],
   "source": [
    "a-7"
   ]
  },
  {
   "cell_type": "code",
   "execution_count": 6,
   "id": "d21428dd-ddf4-4482-a7cc-ffb523d6a427",
   "metadata": {},
   "outputs": [
    {
     "data": {
      "text/plain": [
       "array([ 4, 20, 28, 36])"
      ]
     },
     "execution_count": 6,
     "metadata": {},
     "output_type": "execute_result"
    }
   ],
   "source": [
    "a*4"
   ]
  },
  {
   "cell_type": "code",
   "execution_count": 7,
   "id": "9204f665-4754-4037-b08d-97db34708420",
   "metadata": {},
   "outputs": [
    {
     "data": {
      "text/plain": [
       "array([0.5, 2.5, 3.5, 4.5])"
      ]
     },
     "execution_count": 7,
     "metadata": {},
     "output_type": "execute_result"
    }
   ],
   "source": [
    "a/2"
   ]
  },
  {
   "cell_type": "code",
   "execution_count": 8,
   "id": "12175788-c10e-4764-a21e-d6a770aaf0bc",
   "metadata": {},
   "outputs": [
    {
     "data": {
      "text/plain": [
       "array([ 4,  9, 15, 11])"
      ]
     },
     "execution_count": 8,
     "metadata": {},
     "output_type": "execute_result"
    }
   ],
   "source": [
    "b = np.array([3,4,8,2])\n",
    "a + b"
   ]
  },
  {
   "cell_type": "code",
   "execution_count": 9,
   "id": "c590b68b-9f40-4a5a-9290-39a13bb7bab9",
   "metadata": {},
   "outputs": [
    {
     "data": {
      "text/plain": [
       "array([ 1, 25, 49, 81])"
      ]
     },
     "execution_count": 9,
     "metadata": {},
     "output_type": "execute_result"
    }
   ],
   "source": [
    "a ** 2"
   ]
  },
  {
   "cell_type": "markdown",
   "id": "8134ae76-17e3-4c74-a371-78e74387c146",
   "metadata": {},
   "source": [
    "### Trigo function"
   ]
  },
  {
   "cell_type": "code",
   "execution_count": 10,
   "id": "74ea933d-01fc-466d-96c1-7f64d0715378",
   "metadata": {},
   "outputs": [
    {
     "data": {
      "text/plain": [
       "array([ 0.14112001, -0.7568025 ,  0.98935825,  0.90929743])"
      ]
     },
     "execution_count": 10,
     "metadata": {},
     "output_type": "execute_result"
    }
   ],
   "source": [
    "np.sin(b)"
   ]
  },
  {
   "cell_type": "code",
   "execution_count": 11,
   "id": "38ebcb6b-0fce-45ca-a16e-461e01312181",
   "metadata": {},
   "outputs": [
    {
     "data": {
      "text/plain": [
       "array([-0.14254654,  1.15782128, -6.79971146, -2.18503986])"
      ]
     },
     "execution_count": 11,
     "metadata": {},
     "output_type": "execute_result"
    }
   ],
   "source": [
    "np.tan(b)"
   ]
  },
  {
   "cell_type": "markdown",
   "id": "ca19c98d-90ca-483e-a0b2-a5dcb3a36137",
   "metadata": {},
   "source": [
    "### Linear Algebra\n"
   ]
  },
  {
   "cell_type": "code",
   "execution_count": 18,
   "id": "be0159ed-0893-47a2-93bd-adff29cdfe8e",
   "metadata": {},
   "outputs": [
    {
     "data": {
      "text/plain": [
       "array([[9., 9., 9., 9.],\n",
       "       [9., 9., 9., 9.]])"
      ]
     },
     "execution_count": 18,
     "metadata": {},
     "output_type": "execute_result"
    }
   ],
   "source": [
    "c = np.ones((2,3))\n",
    "d = np.full((3,4) , 3)\n",
    "e = np.random.randint(3, 10 , size=(3,3))\n",
    "np.matmul(c,d)\n"
   ]
  },
  {
   "cell_type": "code",
   "execution_count": 19,
   "id": "a28a6d07-030b-4f95-966c-870a25d44a09",
   "metadata": {},
   "outputs": [
    {
     "data": {
      "text/plain": [
       "-32.000000000000014"
      ]
     },
     "execution_count": 19,
     "metadata": {},
     "output_type": "execute_result"
    }
   ],
   "source": [
    "np.linalg.det(e)"
   ]
  },
  {
   "cell_type": "code",
   "execution_count": 23,
   "id": "1d84b3d3-5fee-40b3-bb9c-e882ff5b964a",
   "metadata": {},
   "outputs": [
    {
     "data": {
      "text/plain": [
       "2"
      ]
     },
     "execution_count": 23,
     "metadata": {},
     "output_type": "execute_result"
    }
   ],
   "source": [
    "# np.linalg.eigvals(3)\n",
    "e.ndim"
   ]
  },
  {
   "cell_type": "markdown",
   "id": "c65fd0a0-192e-4e84-9acf-dd42aa8be556",
   "metadata": {},
   "source": [
    "[NumPy Documentation For Math Functions](https://numpy.org/doc/stable/reference/generated/numpy.sum.html)\n",
    "\n"
   ]
  },
  {
   "cell_type": "markdown",
   "id": "b6691617-c4c5-487a-982f-1840ad84f02c",
   "metadata": {},
   "source": [
    "[NumPy Documentation For Linear Alzebra](https://numpy.org/doc/stable/reference/generated/numpy.linalg.eigvals.html)\n"
   ]
  },
  {
   "cell_type": "markdown",
   "id": "55738781-fad0-4f66-9acf-18e547b1dbb9",
   "metadata": {},
   "source": [
    "### Statistics"
   ]
  },
  {
   "cell_type": "code",
   "execution_count": 24,
   "id": "ee7e5032-2319-4641-b43c-baf287da72d2",
   "metadata": {},
   "outputs": [
    {
     "data": {
      "text/plain": [
       "array([[1, 2, 4],\n",
       "       [6, 7, 9]])"
      ]
     },
     "execution_count": 24,
     "metadata": {},
     "output_type": "execute_result"
    }
   ],
   "source": [
    "stats = np.array([[1,2,4] , [6,7,9]])\n",
    "stats"
   ]
  },
  {
   "cell_type": "code",
   "execution_count": 26,
   "id": "69a049d9-11e7-4e82-93e5-8e874afebcf2",
   "metadata": {},
   "outputs": [
    {
     "data": {
      "text/plain": [
       "1"
      ]
     },
     "execution_count": 26,
     "metadata": {},
     "output_type": "execute_result"
    }
   ],
   "source": [
    "np.min(stats)"
   ]
  },
  {
   "cell_type": "code",
   "execution_count": 27,
   "id": "4c381b3f-c7f7-4a61-8a8b-0c4f1ff88561",
   "metadata": {},
   "outputs": [
    {
     "data": {
      "text/plain": [
       "9"
      ]
     },
     "execution_count": 27,
     "metadata": {},
     "output_type": "execute_result"
    }
   ],
   "source": [
    "np.max(stats)"
   ]
  },
  {
   "cell_type": "code",
   "execution_count": 28,
   "id": "1b1bf723-d1a3-4d3d-a3cd-bc63bf519ebe",
   "metadata": {},
   "outputs": [
    {
     "data": {
      "text/plain": [
       "29"
      ]
     },
     "execution_count": 28,
     "metadata": {},
     "output_type": "execute_result"
    }
   ],
   "source": [
    "np.sum(stats)"
   ]
  },
  {
   "cell_type": "code",
   "execution_count": 30,
   "id": "65cf55b0-5ee5-4412-a36d-4e0ba79dfc7e",
   "metadata": {},
   "outputs": [
    {
     "data": {
      "text/plain": [
       "array([[2.71828183e+00, 7.38905610e+00, 5.45981500e+01],\n",
       "       [4.03428793e+02, 1.09663316e+03, 8.10308393e+03]])"
      ]
     },
     "execution_count": 30,
     "metadata": {},
     "output_type": "execute_result"
    }
   ],
   "source": [
    "np.exp(stats)"
   ]
  },
  {
   "cell_type": "code",
   "execution_count": null,
   "id": "4b355d05-59fc-44e4-9625-9df6fe7fa389",
   "metadata": {},
   "outputs": [],
   "source": []
  }
 ],
 "metadata": {
  "kernelspec": {
   "display_name": "Python 3 (ipykernel)",
   "language": "python",
   "name": "python3"
  },
  "language_info": {
   "codemirror_mode": {
    "name": "ipython",
    "version": 3
   },
   "file_extension": ".py",
   "mimetype": "text/x-python",
   "name": "python",
   "nbconvert_exporter": "python",
   "pygments_lexer": "ipython3",
   "version": "3.12.1"
  }
 },
 "nbformat": 4,
 "nbformat_minor": 5
}
