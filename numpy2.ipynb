{
 "cells": [
  {
   "cell_type": "markdown",
   "id": "8f6a6e9d-1983-408e-9faa-4e6000529c24",
   "metadata": {},
   "source": [
    "# Accessing / Changing specific elements , rows , columns , etc"
   ]
  },
  {
   "cell_type": "code",
   "execution_count": 2,
   "id": "01775782-4937-4d37-ba36-de4c7b5c3ed5",
   "metadata": {},
   "outputs": [],
   "source": [
    "import numpy as np"
   ]
  },
  {
   "cell_type": "code",
   "execution_count": 3,
   "id": "91dba8a2-a6df-4ba8-95ec-1f314a5c49cf",
   "metadata": {},
   "outputs": [
    {
     "name": "stdout",
     "output_type": "stream",
     "text": [
      "[[ 2  3  4  5  6  7]\n",
      " [ 8  6  5  3 12  5]]\n"
     ]
    }
   ],
   "source": [
    "a = np.array([[2,3,4,5,6,7] , [8,6,5,3,12,5]])\n",
    "print(a)"
   ]
  },
  {
   "cell_type": "markdown",
   "id": "8d4a4f3d-611c-4b3d-8299-baa14b1fc75a",
   "metadata": {},
   "source": [
    "### Get a specific elememt *[rows , column]* "
   ]
  },
  {
   "cell_type": "code",
   "execution_count": 10,
   "id": "ed04a210-d16d-45ae-9b96-8f62d736fd47",
   "metadata": {},
   "outputs": [
    {
     "data": {
      "text/plain": [
       "5"
      ]
     },
     "execution_count": 10,
     "metadata": {},
     "output_type": "execute_result"
    }
   ],
   "source": [
    "a[1 , -1]"
   ]
  },
  {
   "cell_type": "code",
   "execution_count": 12,
   "id": "156c7099-8e01-4a54-b595-205fe3cc3951",
   "metadata": {},
   "outputs": [
    {
     "data": {
      "text/plain": [
       "12"
      ]
     },
     "execution_count": 12,
     "metadata": {},
     "output_type": "execute_result"
    }
   ],
   "source": [
    "a[1 , 4]"
   ]
  },
  {
   "cell_type": "markdown",
   "id": "c350fb8e-7cff-41e0-aef8-08bab3a3f82e",
   "metadata": {},
   "source": [
    "### Get a specific row *[row , : ]* "
   ]
  },
  {
   "cell_type": "code",
   "execution_count": 8,
   "id": "b7d8a0bd-2a74-427a-9ffe-95ddc2d0f4c0",
   "metadata": {},
   "outputs": [
    {
     "data": {
      "text/plain": [
       "array([ 8,  6,  5,  3, 12,  5])"
      ]
     },
     "execution_count": 8,
     "metadata": {},
     "output_type": "execute_result"
    }
   ],
   "source": [
    "a[1 , :]"
   ]
  },
  {
   "cell_type": "markdown",
   "id": "c5e675d7-2e6e-41be-8206-3779eda3e50b",
   "metadata": {},
   "source": [
    "### Get a specific column *[ : , column]* "
   ]
  },
  {
   "cell_type": "code",
   "execution_count": 7,
   "id": "3cad7ac3-4400-4a77-a75c-f0dc7c0aaa24",
   "metadata": {},
   "outputs": [
    {
     "data": {
      "text/plain": [
       "array([ 6, 12])"
      ]
     },
     "execution_count": 7,
     "metadata": {},
     "output_type": "execute_result"
    }
   ],
   "source": [
    "a[ : , 4]"
   ]
  },
  {
   "cell_type": "markdown",
   "id": "e1cdd640-5df9-446e-8106-2e9a1c428e91",
   "metadata": {},
   "source": [
    "### Getting a little more fancy *[startindex , endindex , stepsize]*"
   ]
  },
  {
   "cell_type": "code",
   "execution_count": 17,
   "id": "8c7e2bf6-7603-443d-b5a3-9a4bf893c913",
   "metadata": {},
   "outputs": [
    {
     "data": {
      "text/plain": [
       "array([3, 5])"
      ]
     },
     "execution_count": 17,
     "metadata": {},
     "output_type": "execute_result"
    }
   ],
   "source": [
    "a[0 , 1 : -1 : 2]"
   ]
  },
  {
   "cell_type": "code",
   "execution_count": 16,
   "id": "b6041b1e-3b8a-4f24-a6c2-f5c4e81df6b2",
   "metadata": {},
   "outputs": [
    {
     "data": {
      "text/plain": [
       "array([3, 5, 7])"
      ]
     },
     "execution_count": 16,
     "metadata": {},
     "output_type": "execute_result"
    }
   ],
   "source": [
    "a[0 , 1 :  : 2]"
   ]
  },
  {
   "cell_type": "code",
   "execution_count": 18,
   "id": "b6c926bd-690b-430c-a175-3f232f4e687a",
   "metadata": {},
   "outputs": [
    {
     "data": {
      "text/plain": [
       "array([3, 4, 5])"
      ]
     },
     "execution_count": 18,
     "metadata": {},
     "output_type": "execute_result"
    }
   ],
   "source": [
    "a[0 , 1 : 4 : 1]"
   ]
  },
  {
   "cell_type": "markdown",
   "id": "d460488e-6399-4784-ba1f-b51521483921",
   "metadata": {},
   "source": [
    "### changing an element , rows and column"
   ]
  },
  {
   "cell_type": "code",
   "execution_count": 21,
   "id": "94295779-b4b9-44ad-8fe4-38215461e4b2",
   "metadata": {},
   "outputs": [],
   "source": [
    "a[1,4] = 20"
   ]
  },
  {
   "cell_type": "code",
   "execution_count": 22,
   "id": "cc5c55f5-6731-46e0-8f75-010251859f86",
   "metadata": {},
   "outputs": [],
   "source": [
    "a[: , 1] = [11 , 22]"
   ]
  },
  {
   "cell_type": "code",
   "execution_count": 23,
   "id": "8c1a73fb-837f-42f5-933f-22e279c69b3a",
   "metadata": {},
   "outputs": [
    {
     "name": "stdout",
     "output_type": "stream",
     "text": [
      "[[ 2 11  4  5  6  7]\n",
      " [ 8 22  5  3 20  5]]\n"
     ]
    }
   ],
   "source": [
    "print(a)"
   ]
  },
  {
   "cell_type": "markdown",
   "id": "b59f9ee5-a1e9-4b41-b28a-dc63eb7197b9",
   "metadata": {},
   "source": [
    "### working with 3d array"
   ]
  },
  {
   "cell_type": "code",
   "execution_count": 30,
   "id": "6c074813-3a10-4a88-a60f-7c5c5d8359e5",
   "metadata": {},
   "outputs": [
    {
     "name": "stdout",
     "output_type": "stream",
     "text": [
      "[[[ 1  2  3]\n",
      "  [ 4  5  6]]\n",
      "\n",
      " [[ 6  7  8]\n",
      "  [ 9 10 11]]]\n",
      "(2, 2, 3)\n",
      "3\n"
     ]
    }
   ],
   "source": [
    "b = np.array([[[1,2,3] , [4,5,6]] , [[6,7,8] , [9,10,11]]])\n",
    "print(b)\n",
    "print(b.shape)\n",
    "print(b.ndim)"
   ]
  },
  {
   "cell_type": "code",
   "execution_count": 45,
   "id": "e3e93d8f-856b-4007-8adf-3ea24079fc17",
   "metadata": {},
   "outputs": [
    {
     "data": {
      "text/plain": [
       "6"
      ]
     },
     "execution_count": 45,
     "metadata": {},
     "output_type": "execute_result"
    }
   ],
   "source": [
    "b[0 , 1 , 2]"
   ]
  },
  {
   "cell_type": "markdown",
   "id": "5c2874cc-7389-43b6-ac09-a4dd49b0144d",
   "metadata": {},
   "source": [
    "# Initializing different types of arrays"
   ]
  },
  {
   "cell_type": "markdown",
   "id": "43a7f24d-0654-43ed-bb19-e9a9d3aee530",
   "metadata": {},
   "source": [
    "### Null matrix"
   ]
  },
  {
   "cell_type": "code",
   "execution_count": 49,
   "id": "090cda7c-3747-4027-8011-260c30116e0f",
   "metadata": {},
   "outputs": [
    {
     "name": "stdout",
     "output_type": "stream",
     "text": [
      "[[0. 0. 0. 0. 0. 0.]\n",
      " [0. 0. 0. 0. 0. 0.]\n",
      " [0. 0. 0. 0. 0. 0.]\n",
      " [0. 0. 0. 0. 0. 0.]]\n"
     ]
    }
   ],
   "source": [
    "null = np.zeros((4,6))\n",
    "print(null)"
   ]
  },
  {
   "cell_type": "markdown",
   "id": "0c2b8ca1-8587-4ea1-8ef8-5c5dcf90b5e7",
   "metadata": {},
   "source": [
    "### all 1 matrix"
   ]
  },
  {
   "cell_type": "code",
   "execution_count": 43,
   "id": "b1a0ecc7-1d0f-4ce0-9028-7fccffb2e9ca",
   "metadata": {},
   "outputs": [
    {
     "data": {
      "text/plain": [
       "array([[[1, 1, 1, 1],\n",
       "        [1, 1, 1, 1],\n",
       "        [1, 1, 1, 1]],\n",
       "\n",
       "       [[1, 1, 1, 1],\n",
       "        [1, 1, 1, 1],\n",
       "        [1, 1, 1, 1]]], dtype=int8)"
      ]
     },
     "execution_count": 43,
     "metadata": {},
     "output_type": "execute_result"
    }
   ],
   "source": [
    "np.ones((2,3 ,4) , dtype=\"int8\")"
   ]
  },
  {
   "cell_type": "markdown",
   "id": "67ea66f8-ad14-4819-bd6c-85a7eaec7adf",
   "metadata": {},
   "source": [
    "### any other matrix"
   ]
  },
  {
   "cell_type": "code",
   "execution_count": 48,
   "id": "5b9384b2-152f-4e44-8848-baccc8896430",
   "metadata": {},
   "outputs": [
    {
     "data": {
      "text/plain": [
       "array([[[99, 99, 99, 99],\n",
       "        [99, 99, 99, 99],\n",
       "        [99, 99, 99, 99]],\n",
       "\n",
       "       [[99, 99, 99, 99],\n",
       "        [99, 99, 99, 99],\n",
       "        [99, 99, 99, 99]]])"
      ]
     },
     "execution_count": 48,
     "metadata": {},
     "output_type": "execute_result"
    }
   ],
   "source": [
    "np.full((2,3,4) , 99)"
   ]
  },
  {
   "cell_type": "code",
   "execution_count": 50,
   "id": "31d823a3-3645-43de-85de-05f1c94ad023",
   "metadata": {},
   "outputs": [
    {
     "data": {
      "text/plain": [
       "array([[49., 49., 49., 49., 49., 49.],\n",
       "       [49., 49., 49., 49., 49., 49.],\n",
       "       [49., 49., 49., 49., 49., 49.],\n",
       "       [49., 49., 49., 49., 49., 49.]])"
      ]
     },
     "execution_count": 50,
     "metadata": {},
     "output_type": "execute_result"
    }
   ],
   "source": [
    "np.full_like(null , 49)"
   ]
  },
  {
   "cell_type": "markdown",
   "id": "ee060d1e-12e6-447f-a234-1816a6e88882",
   "metadata": {},
   "source": [
    "### Random decimal number\n"
   ]
  },
  {
   "cell_type": "code",
   "execution_count": 51,
   "id": "7bacfe70-c348-47aa-add9-0a099b41eac1",
   "metadata": {},
   "outputs": [
    {
     "data": {
      "text/plain": [
       "array([[0.07434872, 0.22568665],\n",
       "       [0.1045646 , 0.05761845],\n",
       "       [0.71367666, 0.78334692],\n",
       "       [0.53795594, 0.09834291]])"
      ]
     },
     "execution_count": 51,
     "metadata": {},
     "output_type": "execute_result"
    }
   ],
   "source": [
    "np.random.rand(4,2)"
   ]
  },
  {
   "cell_type": "code",
   "execution_count": 52,
   "id": "850fbef7-2330-4800-a3fa-de54c9f94767",
   "metadata": {},
   "outputs": [
    {
     "data": {
      "text/plain": [
       "array([[0.12404427, 0.36589558, 0.11920248, 0.90859777, 0.42777568,\n",
       "        0.16687821],\n",
       "       [0.393441  , 0.91149308, 0.59541209, 0.51500203, 0.08121689,\n",
       "        0.30908391],\n",
       "       [0.13485748, 0.60134764, 0.45202358, 0.91111822, 0.5026017 ,\n",
       "        0.92444322],\n",
       "       [0.12872948, 0.21059863, 0.9586407 , 0.53939228, 0.5665583 ,\n",
       "        0.0848676 ]])"
      ]
     },
     "execution_count": 52,
     "metadata": {},
     "output_type": "execute_result"
    }
   ],
   "source": [
    "np.random.random_sample(null.shape)"
   ]
  },
  {
   "cell_type": "markdown",
   "id": "18e60760-7123-46f6-925e-77c225039350",
   "metadata": {},
   "source": [
    "### Random integer number\n"
   ]
  },
  {
   "cell_type": "code",
   "execution_count": 58,
   "id": "988f60b0-1aff-42aa-97d3-82f98543352d",
   "metadata": {},
   "outputs": [
    {
     "data": {
      "text/plain": [
       "array([[5, 5, 3],\n",
       "       [3, 4, 7],\n",
       "       [7, 4, 3]])"
      ]
     },
     "execution_count": 58,
     "metadata": {},
     "output_type": "execute_result"
    }
   ],
   "source": [
    "np.random.randint(3 , 8 , size=(3,3))"
   ]
  },
  {
   "cell_type": "markdown",
   "id": "5cf7fce3-0f62-4ff8-b93b-b6c3a1511261",
   "metadata": {},
   "source": [
    "### The identity matrix\n"
   ]
  },
  {
   "cell_type": "code",
   "execution_count": 59,
   "id": "404569a3-b02a-43ce-b320-aa927cf8c7e9",
   "metadata": {},
   "outputs": [
    {
     "data": {
      "text/plain": [
       "array([[1., 0., 0., 0., 0., 0.],\n",
       "       [0., 1., 0., 0., 0., 0.],\n",
       "       [0., 0., 1., 0., 0., 0.],\n",
       "       [0., 0., 0., 1., 0., 0.],\n",
       "       [0., 0., 0., 0., 1., 0.],\n",
       "       [0., 0., 0., 0., 0., 1.]])"
      ]
     },
     "execution_count": 59,
     "metadata": {},
     "output_type": "execute_result"
    }
   ],
   "source": [
    "np.identity(6)"
   ]
  },
  {
   "cell_type": "markdown",
   "id": "6fd0751e-4693-4aa4-9f4a-89081b307ecc",
   "metadata": {},
   "source": [
    "### Repeat an array"
   ]
  },
  {
   "cell_type": "code",
   "execution_count": 64,
   "id": "6b8cb0c3-9d2d-4402-ab6f-70b08aea9807",
   "metadata": {},
   "outputs": [
    {
     "name": "stdout",
     "output_type": "stream",
     "text": [
      "[[1 2 3]\n",
      " [1 2 3]\n",
      " [1 2 3]]\n"
     ]
    }
   ],
   "source": [
    "arr = np.array([[1,2,3]])\n",
    "r1 = np.repeat(arr , 3 , axis = 0)\n",
    "print(r1)"
   ]
  },
  {
   "cell_type": "markdown",
   "id": "127aac34-29fd-420f-b91e-d35eb7d2f182",
   "metadata": {},
   "source": [
    "### Exercise"
   ]
  },
  {
   "cell_type": "code",
   "execution_count": 65,
   "id": "a2c97df9-b2cf-4740-820d-aecd385aa406",
   "metadata": {},
   "outputs": [
    {
     "name": "stdout",
     "output_type": "stream",
     "text": [
      "[[1. 1. 1. 1. 1.]\n",
      " [1. 1. 1. 1. 1.]\n",
      " [1. 1. 1. 1. 1.]\n",
      " [1. 1. 1. 1. 1.]\n",
      " [1. 1. 1. 1. 1.]]\n"
     ]
    }
   ],
   "source": [
    "output = np.ones((5,5))\n",
    "print(output)"
   ]
  },
  {
   "cell_type": "code",
   "execution_count": 66,
   "id": "5a46afaf-8e3a-4e77-9ca0-b254c5642f27",
   "metadata": {},
   "outputs": [
    {
     "name": "stdout",
     "output_type": "stream",
     "text": [
      "[[0. 0. 0.]\n",
      " [0. 0. 0.]\n",
      " [0. 0. 0.]]\n"
     ]
    }
   ],
   "source": [
    "z = np.zeros((3,3))\n",
    "print(z)"
   ]
  },
  {
   "cell_type": "code",
   "execution_count": 68,
   "id": "00d9eb95-6041-4b5d-a2d2-c24f36febdce",
   "metadata": {},
   "outputs": [
    {
     "name": "stdout",
     "output_type": "stream",
     "text": [
      "[[0. 0. 0.]\n",
      " [0. 9. 0.]\n",
      " [0. 0. 0.]]\n"
     ]
    }
   ],
   "source": [
    "z[1,1] = 9\n",
    "print(z)"
   ]
  },
  {
   "cell_type": "code",
   "execution_count": 69,
   "id": "5b6b97ed-847a-40f2-8f39-d84e6cc933fd",
   "metadata": {},
   "outputs": [
    {
     "name": "stdout",
     "output_type": "stream",
     "text": [
      "[[1. 1. 1. 1. 1.]\n",
      " [1. 0. 0. 0. 1.]\n",
      " [1. 0. 9. 0. 1.]\n",
      " [1. 0. 0. 0. 1.]\n",
      " [1. 1. 1. 1. 1.]]\n"
     ]
    }
   ],
   "source": [
    "output[1:-1 , 1:-1] = z\n",
    "print(output)"
   ]
  },
  {
   "cell_type": "markdown",
   "id": "e59ea6df-ef47-4809-993b-bf394120e03f",
   "metadata": {},
   "source": [
    "# Carefull while copying "
   ]
  },
  {
   "cell_type": "code",
   "execution_count": 72,
   "id": "23607c69-f0a2-4f27-9503-bc7f9d5dc015",
   "metadata": {},
   "outputs": [
    {
     "name": "stdout",
     "output_type": "stream",
     "text": [
      "20\n",
      "20\n"
     ]
    }
   ],
   "source": [
    "a = np.array([12,43,15])\n",
    "b = a\n",
    "b[2] = 20\n",
    "print(b[2])\n",
    "print(a[2])"
   ]
  },
  {
   "cell_type": "code",
   "execution_count": 73,
   "id": "9733c8b6-9011-4cdf-b890-4a98366021ab",
   "metadata": {},
   "outputs": [
    {
     "name": "stdout",
     "output_type": "stream",
     "text": [
      "99\n",
      "20\n"
     ]
    }
   ],
   "source": [
    "c = a.copy()\n",
    "c[2] = 99\n",
    "print(c[2])\n",
    "print(a[2])"
   ]
  }
 ],
 "metadata": {
  "kernelspec": {
   "display_name": "Python 3 (ipykernel)",
   "language": "python",
   "name": "python3"
  },
  "language_info": {
   "codemirror_mode": {
    "name": "ipython",
    "version": 3
   },
   "file_extension": ".py",
   "mimetype": "text/x-python",
   "name": "python",
   "nbconvert_exporter": "python",
   "pygments_lexer": "ipython3",
   "version": "3.12.1"
  }
 },
 "nbformat": 4,
 "nbformat_minor": 5
}
