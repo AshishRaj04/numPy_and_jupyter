{
 "cells": [
  {
   "cell_type": "markdown",
   "id": "131bbc75-be74-46f4-b037-7e84df4eb40f",
   "metadata": {},
   "source": [
    "# Numpy\n"
   ]
  },
  {
   "cell_type": "markdown",
   "id": "521fe784-a4e3-4097-a55e-808d8aa91dd1",
   "metadata": {},
   "source": [
    "## This is a NumPy Tutorial\n"
   ]
  },
  {
   "cell_type": "markdown",
   "id": "fa69026f-09f4-475b-b6a7-ee398ba5d8ee",
   "metadata": {},
   "source": [
    "**The Basics**\n",
    "You can create NumPy arrays using `np.array()` function.\r\n"
   ]
  },
  {
   "cell_type": "code",
   "execution_count": 3,
   "id": "6f6838e1-6365-4762-8f77-8043f3fa6957",
   "metadata": {},
   "outputs": [],
   "source": [
    "import numpy as np"
   ]
  },
  {
   "cell_type": "markdown",
   "id": "abe35d80-2bc5-47f0-a8e9-ae4fca545ee4",
   "metadata": {},
   "source": [
    "*1D-Array*"
   ]
  },
  {
   "cell_type": "code",
   "execution_count": 42,
   "id": "d745450c-f37c-4a9f-9fa7-307f13b598b5",
   "metadata": {},
   "outputs": [
    {
     "name": "stdout",
     "output_type": "stream",
     "text": [
      "[1 2 4]\n"
     ]
    }
   ],
   "source": [
    "a = np.array([1,2,4] , dtype = \"int8\")\n",
    "print(a)"
   ]
  },
  {
   "cell_type": "markdown",
   "id": "d8d25ff0-20bb-40de-99f0-325696243a69",
   "metadata": {},
   "source": [
    "*2D-Array*"
   ]
  },
  {
   "cell_type": "code",
   "execution_count": 54,
   "id": "4b4cf981-388c-4534-bfc6-5bed98c5c85b",
   "metadata": {},
   "outputs": [
    {
     "name": "stdout",
     "output_type": "stream",
     "text": [
      "[[2.  4.  4. ]\n",
      " [5.  7.1 2. ]]\n",
      "\n",
      "\n",
      "[[1 2 4]\n",
      " [5 6 7]\n",
      " [7 8 9]]\n"
     ]
    }
   ],
   "source": [
    "b = np.array([[2 , 4.0 , 4] , [5 ,7.1 , 2]])\n",
    "print(b)\n",
    "print(\"\\n\")\n",
    "c = np.array([[1,2,4] , [5,6,7] , [7,8,9]] , dtype = \"int32\")\n",
    "print(c)"
   ]
  },
  {
   "cell_type": "markdown",
   "id": "1599d17a-6602-4e11-a902-e3626ba63b6e",
   "metadata": {},
   "source": [
    "*3D-Array*"
   ]
  },
  {
   "cell_type": "code",
   "execution_count": 33,
   "id": "0a39c1f8-e910-4c60-9a65-0132d51daa7e",
   "metadata": {},
   "outputs": [
    {
     "name": "stdout",
     "output_type": "stream",
     "text": [
      "[[[ 1  2  3]\n",
      "  [ 4  5  6]\n",
      "  [ 7  8  9]]\n",
      "\n",
      " [[10 11 12]\n",
      "  [13 14 15]\n",
      "  [16 17 18]]\n",
      "\n",
      " [[19 20 21]\n",
      "  [22 23 24]\n",
      "  [25 26 27]]]\n"
     ]
    }
   ],
   "source": [
    "arr_3d = np.array([[[1, 2, 3],\n",
    "                    [4, 5, 6],\n",
    "                    [7, 8, 9]],\n",
    "                   \n",
    "                   [[10, 11, 12],\n",
    "                    [13, 14, 15],\n",
    "                    [16, 17, 18]],\n",
    "                   \n",
    "                   [[19, 20, 21],\n",
    "                    [22, 23, 24],\n",
    "                    [25, 26, 27]]] , dtype=\"int64\")\n",
    "\n",
    "print(arr_3d)"
   ]
  },
  {
   "cell_type": "markdown",
   "id": "62d79666-8d43-417d-8a3b-5527a0c5c618",
   "metadata": {},
   "source": [
    "*Get Dimention*"
   ]
  },
  {
   "cell_type": "code",
   "execution_count": 19,
   "id": "c59efae8-0e36-425a-bb2f-4b8293aa2bdb",
   "metadata": {},
   "outputs": [
    {
     "data": {
      "text/plain": [
       "3"
      ]
     },
     "execution_count": 19,
     "metadata": {},
     "output_type": "execute_result"
    }
   ],
   "source": [
    "arr_3d.ndim"
   ]
  },
  {
   "cell_type": "markdown",
   "id": "3b8a6a3a-6472-437e-a7c7-2b0e72325405",
   "metadata": {},
   "source": [
    "*Get Shape*"
   ]
  },
  {
   "cell_type": "code",
   "execution_count": 25,
   "id": "c16c51bb-d8c6-4411-a960-2cf23e73f09b",
   "metadata": {},
   "outputs": [
    {
     "name": "stdout",
     "output_type": "stream",
     "text": [
      "(3,)\n",
      "(2, 3)\n",
      "(3, 3)\n",
      "(3, 3, 3)\n"
     ]
    }
   ],
   "source": [
    "print(a.shape)\n",
    "print(b.shape)\n",
    "print(c.shape)\n",
    "print(arr_3d.shape)"
   ]
  },
  {
   "cell_type": "markdown",
   "id": "f5beda1c-3017-43f6-9552-fda19dc2ba6d",
   "metadata": {},
   "source": [
    "*Get Type*"
   ]
  },
  {
   "cell_type": "code",
   "execution_count": 47,
   "id": "d7f297f6-e205-41c9-a15c-ab039eb70dce",
   "metadata": {},
   "outputs": [
    {
     "data": {
      "text/plain": [
       "dtype('int64')"
      ]
     },
     "execution_count": 47,
     "metadata": {},
     "output_type": "execute_result"
    }
   ],
   "source": [
    "arr_3d.dtype"
   ]
  },
  {
   "cell_type": "markdown",
   "id": "f03cfc76-6ff4-4098-885a-e9644fc25767",
   "metadata": {},
   "source": [
    "*Get Size (in bytes)*"
   ]
  },
  {
   "cell_type": "code",
   "execution_count": 43,
   "id": "d812c07e-4fd1-4ac2-ba37-5492865124b9",
   "metadata": {},
   "outputs": [
    {
     "name": "stdout",
     "output_type": "stream",
     "text": [
      "1\n",
      "2\n",
      "4\n",
      "8\n"
     ]
    }
   ],
   "source": [
    "print(a.itemsize)\n",
    "print(b.itemsize)\n",
    "print(c.itemsize)\n",
    "print(arr_3d.itemsize)"
   ]
  },
  {
   "cell_type": "markdown",
   "id": "e8cecf2d-ef44-4a00-a023-6fe50206f76e",
   "metadata": {},
   "source": [
    "*Get Total Number of Elements*"
   ]
  },
  {
   "cell_type": "code",
   "execution_count": 49,
   "id": "060dac08-d96c-428b-8ed8-69f9c397e3d1",
   "metadata": {},
   "outputs": [
    {
     "name": "stdout",
     "output_type": "stream",
     "text": [
      "3\n",
      "6\n",
      "27\n"
     ]
    }
   ],
   "source": [
    "print(a.size)\n",
    "print(b.size)\n",
    "print(arr_3d.size)"
   ]
  },
  {
   "cell_type": "markdown",
   "id": "61e2317b-d6b2-4ab1-8144-a1286c5365bc",
   "metadata": {},
   "source": [
    "*Get Total Size (in bytes)*"
   ]
  },
  {
   "cell_type": "code",
   "execution_count": 52,
   "id": "f1065d48-49f8-4049-9921-6d84fb338d9f",
   "metadata": {},
   "outputs": [
    {
     "name": "stdout",
     "output_type": "stream",
     "text": [
      "36\n",
      "216\n",
      "216\n"
     ]
    }
   ],
   "source": [
    "print(c.size * c.itemsize)\n",
    "print(arr_3d.size * arr_3d.itemsize)\n",
    "print(arr_3d.nbytes)"
   ]
  },
  {
   "cell_type": "code",
   "execution_count": 55,
   "id": "dd9abe2f-576b-4020-8f1e-daf38701668e",
   "metadata": {},
   "outputs": [
    {
     "data": {
      "text/plain": [
       "48"
      ]
     },
     "execution_count": 55,
     "metadata": {},
     "output_type": "execute_result"
    }
   ],
   "source": [
    "b.nbytes"
   ]
  },
  {
   "cell_type": "code",
   "execution_count": null,
   "id": "3c04f662-7901-4b6c-a84b-a0f17b9c51b0",
   "metadata": {},
   "outputs": [],
   "source": []
  }
 ],
 "metadata": {
  "kernelspec": {
   "display_name": "Python 3 (ipykernel)",
   "language": "python",
   "name": "python3"
  },
  "language_info": {
   "codemirror_mode": {
    "name": "ipython",
    "version": 3
   },
   "file_extension": ".py",
   "mimetype": "text/x-python",
   "name": "python",
   "nbconvert_exporter": "python",
   "pygments_lexer": "ipython3",
   "version": "3.12.1"
  }
 },
 "nbformat": 4,
 "nbformat_minor": 5
}
