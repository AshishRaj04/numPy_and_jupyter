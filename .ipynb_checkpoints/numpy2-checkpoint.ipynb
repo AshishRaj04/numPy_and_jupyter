{
 "cells": [
  {
   "cell_type": "markdown",
   "id": "8f6a6e9d-1983-408e-9faa-4e6000529c24",
   "metadata": {},
   "source": [
    "# Accessing / Changing specific elements , rows , columns , etc"
   ]
  },
  {
   "cell_type": "code",
   "execution_count": 2,
   "id": "01775782-4937-4d37-ba36-de4c7b5c3ed5",
   "metadata": {},
   "outputs": [],
   "source": [
    "import numpy as np"
   ]
  },
  {
   "cell_type": "code",
   "execution_count": 3,
   "id": "91dba8a2-a6df-4ba8-95ec-1f314a5c49cf",
   "metadata": {},
   "outputs": [
    {
     "name": "stdout",
     "output_type": "stream",
     "text": [
      "[[ 2  3  4  5  6  7]\n",
      " [ 8  6  5  3 12  5]]\n"
     ]
    }
   ],
   "source": [
    "a = np.array([[2,3,4,5,6,7] , [8,6,5,3,12,5]])\n",
    "print(a)"
   ]
  },
  {
   "cell_type": "markdown",
   "id": "8d4a4f3d-611c-4b3d-8299-baa14b1fc75a",
   "metadata": {},
   "source": [
    "### Get a specific elememt *[rows , column]* "
   ]
  },
  {
   "cell_type": "code",
   "execution_count": 10,
   "id": "ed04a210-d16d-45ae-9b96-8f62d736fd47",
   "metadata": {},
   "outputs": [
    {
     "data": {
      "text/plain": [
       "5"
      ]
     },
     "execution_count": 10,
     "metadata": {},
     "output_type": "execute_result"
    }
   ],
   "source": [
    "a[1 , -1]"
   ]
  },
  {
   "cell_type": "code",
   "execution_count": 12,
   "id": "156c7099-8e01-4a54-b595-205fe3cc3951",
   "metadata": {},
   "outputs": [
    {
     "data": {
      "text/plain": [
       "12"
      ]
     },
     "execution_count": 12,
     "metadata": {},
     "output_type": "execute_result"
    }
   ],
   "source": [
    "a[1 , 4]"
   ]
  },
  {
   "cell_type": "markdown",
   "id": "c350fb8e-7cff-41e0-aef8-08bab3a3f82e",
   "metadata": {},
   "source": [
    "### Get a specific row *[row , : ]* "
   ]
  },
  {
   "cell_type": "code",
   "execution_count": 8,
   "id": "b7d8a0bd-2a74-427a-9ffe-95ddc2d0f4c0",
   "metadata": {},
   "outputs": [
    {
     "data": {
      "text/plain": [
       "array([ 8,  6,  5,  3, 12,  5])"
      ]
     },
     "execution_count": 8,
     "metadata": {},
     "output_type": "execute_result"
    }
   ],
   "source": [
    "a[1 , :]"
   ]
  },
  {
   "cell_type": "markdown",
   "id": "c5e675d7-2e6e-41be-8206-3779eda3e50b",
   "metadata": {},
   "source": [
    "### Get a specific column *[ : , column]* "
   ]
  },
  {
   "cell_type": "code",
   "execution_count": 7,
   "id": "3cad7ac3-4400-4a77-a75c-f0dc7c0aaa24",
   "metadata": {},
   "outputs": [
    {
     "data": {
      "text/plain": [
       "array([ 6, 12])"
      ]
     },
     "execution_count": 7,
     "metadata": {},
     "output_type": "execute_result"
    }
   ],
   "source": [
    "a[ : , 4]"
   ]
  },
  {
   "cell_type": "markdown",
   "id": "e1cdd640-5df9-446e-8106-2e9a1c428e91",
   "metadata": {},
   "source": [
    "### Getting a little more fancy *[startindex , endindex , stepsize]*"
   ]
  },
  {
   "cell_type": "code",
   "execution_count": 17,
   "id": "8c7e2bf6-7603-443d-b5a3-9a4bf893c913",
   "metadata": {},
   "outputs": [
    {
     "data": {
      "text/plain": [
       "array([3, 5])"
      ]
     },
     "execution_count": 17,
     "metadata": {},
     "output_type": "execute_result"
    }
   ],
   "source": [
    "a[0 , 1 : -1 : 2]"
   ]
  },
  {
   "cell_type": "code",
   "execution_count": 16,
   "id": "b6041b1e-3b8a-4f24-a6c2-f5c4e81df6b2",
   "metadata": {},
   "outputs": [
    {
     "data": {
      "text/plain": [
       "array([3, 5, 7])"
      ]
     },
     "execution_count": 16,
     "metadata": {},
     "output_type": "execute_result"
    }
   ],
   "source": [
    "a[0 , 1 :  : 2]"
   ]
  },
  {
   "cell_type": "code",
   "execution_count": 18,
   "id": "b6c926bd-690b-430c-a175-3f232f4e687a",
   "metadata": {},
   "outputs": [
    {
     "data": {
      "text/plain": [
       "array([3, 4, 5])"
      ]
     },
     "execution_count": 18,
     "metadata": {},
     "output_type": "execute_result"
    }
   ],
   "source": [
    "a[0 , 1 : 4 : 1]"
   ]
  },
  {
   "cell_type": "markdown",
   "id": "d460488e-6399-4784-ba1f-b51521483921",
   "metadata": {},
   "source": [
    "### changing an element , rows and column"
   ]
  },
  {
   "cell_type": "code",
   "execution_count": 21,
   "id": "94295779-b4b9-44ad-8fe4-38215461e4b2",
   "metadata": {},
   "outputs": [],
   "source": [
    "a[1,4] = 20"
   ]
  },
  {
   "cell_type": "code",
   "execution_count": 22,
   "id": "cc5c55f5-6731-46e0-8f75-010251859f86",
   "metadata": {},
   "outputs": [],
   "source": [
    "a[: , 1] = [11 , 22]"
   ]
  },
  {
   "cell_type": "code",
   "execution_count": 23,
   "id": "8c1a73fb-837f-42f5-933f-22e279c69b3a",
   "metadata": {},
   "outputs": [
    {
     "name": "stdout",
     "output_type": "stream",
     "text": [
      "[[ 2 11  4  5  6  7]\n",
      " [ 8 22  5  3 20  5]]\n"
     ]
    }
   ],
   "source": [
    "print(a)"
   ]
  },
  {
   "cell_type": "markdown",
   "id": "b59f9ee5-a1e9-4b41-b28a-dc63eb7197b9",
   "metadata": {},
   "source": [
    "### working with 3d array"
   ]
  },
  {
   "cell_type": "code",
   "execution_count": 30,
   "id": "6c074813-3a10-4a88-a60f-7c5c5d8359e5",
   "metadata": {},
   "outputs": [
    {
     "name": "stdout",
     "output_type": "stream",
     "text": [
      "[[[ 1  2  3]\n",
      "  [ 4  5  6]]\n",
      "\n",
      " [[ 6  7  8]\n",
      "  [ 9 10 11]]]\n",
      "(2, 2, 3)\n",
      "3\n"
     ]
    }
   ],
   "source": [
    "b = np.array([[[1,2,3] , [4,5,6]] , [[6,7,8] , [9,10,11]]])\n",
    "print(b)\n",
    "print(b.shape)\n",
    "print(b.ndim)"
   ]
  },
  {
   "cell_type": "code",
   "execution_count": 32,
   "id": "e3e93d8f-856b-4007-8adf-3ea24079fc17",
   "metadata": {},
   "outputs": [
    {
     "data": {
      "text/plain": [
       "10"
      ]
     },
     "execution_count": 32,
     "metadata": {},
     "output_type": "execute_result"
    }
   ],
   "source": [
    "b[1 , 1 , 2]"
   ]
  },
  {
   "cell_type": "markdown",
   "id": "5c2874cc-7389-43b6-ac09-a4dd49b0144d",
   "metadata": {},
   "source": [
    "# Initializing different types of arrays"
   ]
  },
  {
   "cell_type": "markdown",
   "id": "43a7f24d-0654-43ed-bb19-e9a9d3aee530",
   "metadata": {},
   "source": [
    "### Null matrix"
   ]
  },
  {
   "cell_type": "code",
   "execution_count": 34,
   "id": "090cda7c-3747-4027-8011-260c30116e0f",
   "metadata": {},
   "outputs": [
    {
     "data": {
      "text/plain": [
       "array([[0., 0., 0., 0., 0., 0.],\n",
       "       [0., 0., 0., 0., 0., 0.],\n",
       "       [0., 0., 0., 0., 0., 0.],\n",
       "       [0., 0., 0., 0., 0., 0.]])"
      ]
     },
     "execution_count": 34,
     "metadata": {},
     "output_type": "execute_result"
    }
   ],
   "source": [
    "np.zeros((4,6))"
   ]
  },
  {
   "cell_type": "markdown",
   "id": "0c2b8ca1-8587-4ea1-8ef8-5c5dcf90b5e7",
   "metadata": {},
   "source": [
    "### all 1 matrix"
   ]
  },
  {
   "cell_type": "code",
   "execution_count": 43,
   "id": "b1a0ecc7-1d0f-4ce0-9028-7fccffb2e9ca",
   "metadata": {},
   "outputs": [
    {
     "data": {
      "text/plain": [
       "array([[[1, 1, 1, 1],\n",
       "        [1, 1, 1, 1],\n",
       "        [1, 1, 1, 1]],\n",
       "\n",
       "       [[1, 1, 1, 1],\n",
       "        [1, 1, 1, 1],\n",
       "        [1, 1, 1, 1]]], dtype=int8)"
      ]
     },
     "execution_count": 43,
     "metadata": {},
     "output_type": "execute_result"
    }
   ],
   "source": [
    "np.ones((2,3 ,4) , dtype=\"int8\")"
   ]
  },
  {
   "cell_type": "code",
   "execution_count": null,
   "id": "1875bf06-aa91-43a1-8a1c-493b7d9b5512",
   "metadata": {},
   "outputs": [],
   "source": []
  }
 ],
 "metadata": {
  "kernelspec": {
   "display_name": "Python 3 (ipykernel)",
   "language": "python",
   "name": "python3"
  },
  "language_info": {
   "codemirror_mode": {
    "name": "ipython",
    "version": 3
   },
   "file_extension": ".py",
   "mimetype": "text/x-python",
   "name": "python",
   "nbconvert_exporter": "python",
   "pygments_lexer": "ipython3",
   "version": "3.12.1"
  }
 },
 "nbformat": 4,
 "nbformat_minor": 5
}
